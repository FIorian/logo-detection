{
 "cells": [
  {
   "cell_type": "code",
   "execution_count": null,
   "metadata": {},
   "outputs": [],
   "source": [
    "import sys\n",
    "sys.path.append(\"../\")"
   ]
  },
  {
   "cell_type": "code",
   "execution_count": null,
   "metadata": {},
   "outputs": [],
   "source": [
    "%load_ext autoreload\n",
    "%autoreload 2"
   ]
  },
  {
   "cell_type": "code",
   "execution_count": null,
   "metadata": {},
   "outputs": [],
   "source": [
    "import os\n",
    "#import pandas as pd\n",
    "import numpy as np\n",
    "import cv2\n",
    "#from PIL import Image\n",
    "import random\n",
    "#import tensorflow as tf\n",
    "#import re\n",
    "import datetime\n",
    "import io\n",
    "#from sklearn.model_selection import train_test_split\n",
    "from matplotlib import pyplot as plt\n",
    "import pickle\n",
    "#import string\n",
    "#from keras.models import Model, load_model\n",
    "#from keras.layers import Input, LSTM, Dense, Conv2D, MaxPooling2D, Reshape, Dropout, BatchNormalization, Activation\n",
    "#from utils import score_prediction, generate_token_index, y_labels\n",
    "import yaml \n",
    "import json\n",
    "from preprocessing.preproc_functions import read_image, read_query, normalize_0_mean_1_variance, normalize_0_1, read_annotation\n",
    "from predictors.predictor import PredictorFCN\n",
    "from data_generators.data_generator import DataGenerator\n",
    "#from utils.score_prediction import pixel_accuracy, mean_accuracy, mean_IoU, freq_weighted_mean_IoU, score_prediction\n",
    "from tensorflow.keras.models import load_model, model_from_json\n",
    "\n",
    "%matplotlib inline"
   ]
  },
  {
   "cell_type": "code",
   "execution_count": null,
   "metadata": {},
   "outputs": [],
   "source": [
    "with open('../configs/config.yml') as f:\n",
    "    config = yaml.load(f, Loader=yaml.FullLoader)\n",
    "    \n",
    "config['labels_file'] = '../' + config['labels_file']\n",
    "config['dataset_folder'] = '../' + config['dataset_folder']\n",
    "\n",
    "config['network']['graph_path'] = '../' + config['network']['graph_path']\n",
    "config['predict']['weights_file'] = '../' + config['predict']['weights_file']\n",
    "\n",
    "y_size = config['image']['image_size']['y_size']\n",
    "x_size = config['image']['image_size']['x_size']\n",
    "y_query_size = config['image']['query_image_size']['y_size']\n",
    "x_query_size = config['image']['query_image_size']['x_size']"
   ]
  },
  {
   "cell_type": "code",
   "execution_count": null,
   "metadata": {},
   "outputs": [],
   "source": [
    "with open(config['labels_file']) as f:\n",
    "    dataset = json.load(f)"
   ]
  },
  {
   "cell_type": "markdown",
   "metadata": {},
   "source": [
    "### Load model"
   ]
  },
  {
   "cell_type": "code",
   "execution_count": null,
   "metadata": {},
   "outputs": [],
   "source": [
    "json_file = open(config['network']['graph_path'], 'r')\n",
    "loaded_model_json = json_file.read()\n",
    "json_file.close()\n",
    "\n",
    "model = model_from_json(loaded_model_json)\n",
    "# load weights into new model\n",
    "model.load_weights(config['predict']['weights_file'])"
   ]
  },
  {
   "cell_type": "markdown",
   "metadata": {},
   "source": [
    "### Predict"
   ]
  },
  {
   "cell_type": "code",
   "execution_count": null,
   "metadata": {},
   "outputs": [],
   "source": [
    "items = dataset['test']"
   ]
  },
  {
   "cell_type": "code",
   "execution_count": null,
   "metadata": {},
   "outputs": [],
   "source": [
    "index = random.randint(0, len(items)-1)\n",
    "elem = items[index]\n",
    "\n",
    "query = read_query(config['dataset_folder'], elem['query'], y_query_size, x_query_size, black_white = False)\n",
    "image = read_image(config['dataset_folder'], elem['image']['filename'], y_size, x_size, black_white = False)\n",
    "annotation = read_annotation(config['dataset_folder'], elem['image']['annotation'], y_size, x_size)\n",
    "\n",
    "query = np.expand_dims(query, axis=0)\n",
    "image = np.expand_dims(image, axis=0)"
   ]
  },
  {
   "cell_type": "code",
   "execution_count": null,
   "metadata": {},
   "outputs": [],
   "source": [
    "output_raw = model.predict([query, image])\n",
    "output_raw = output_raw/np.max(output_raw)\n",
    "output = np.where(output_raw > 0.5, 1., 0.)"
   ]
  },
  {
   "cell_type": "markdown",
   "metadata": {},
   "source": [
    "### Plot"
   ]
  },
  {
   "cell_type": "code",
   "execution_count": null,
   "metadata": {},
   "outputs": [],
   "source": [
    "#index = random.randint(0, len(query)-1)\n",
    "fig = plt.figure(figsize=(15, 15))\n",
    "plt.subplot(1, 4, 1)\n",
    "plt.imshow(query[0, ...]/255.)\n",
    "plt.subplot(1, 4, 2)\n",
    "plt.imshow(image[0, ...])\n",
    "plt.subplot(1, 4, 3)\n",
    "plt.imshow(annotation)\n",
    "plt.subplot(1, 4, 4)\n",
    "plt.imshow(output[0, ...])"
   ]
  },
  {
   "cell_type": "code",
   "execution_count": null,
   "metadata": {},
   "outputs": [],
   "source": []
  }
 ],
 "metadata": {
  "kernelspec": {
   "display_name": "Python 3",
   "language": "python",
   "name": "python3"
  },
  "language_info": {
   "codemirror_mode": {
    "name": "ipython",
    "version": 3
   },
   "file_extension": ".py",
   "mimetype": "text/x-python",
   "name": "python",
   "nbconvert_exporter": "python",
   "pygments_lexer": "ipython3",
   "version": "3.7.3"
  }
 },
 "nbformat": 4,
 "nbformat_minor": 2
}
